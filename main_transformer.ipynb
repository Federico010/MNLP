{
 "cells": [
  {
   "cell_type": "code",
   "execution_count": null,
   "id": "defae42d",
   "metadata": {},
   "outputs": [],
   "source": [
    "import torch\n",
    "from modules import paths\n",
    "from datasets import Dataset\n",
    "from transformers import AutoTokenizer, Trainer, TrainingArguments, DataCollatorWithPadding, set_seed, AutoModelForSequenceClassification\n",
    "from modules.transformer_model import build_model, metrics\n",
    "import nest_asyncio\n",
    "import matplotlib.pyplot as plt\n",
    "from sklearn.metrics import ConfusionMatrixDisplay, confusion_matrix\n",
    "import optuna\n",
    "import pandas as pd"
   ]
  },
  {
   "cell_type": "code",
   "execution_count": null,
   "id": "1a764bc2",
   "metadata": {},
   "outputs": [],
   "source": [
    "nest_asyncio.apply()"
   ]
  },
  {
   "cell_type": "code",
   "execution_count": null,
   "id": "c68473af",
   "metadata": {},
   "outputs": [],
   "source": [
    "device = torch.device(\"cuda\" if torch.cuda.is_available() else \"cpu\")\n",
    "print(\"Utilizzo:\", device)\n",
    "set_seed(0)"
   ]
  },
  {
   "cell_type": "code",
   "execution_count": null,
   "id": "fb05939a",
   "metadata": {},
   "outputs": [],
   "source": [
    "df_train: pd.DataFrame = pd.read_csv(f'hf://datasets/sapienzanlp/nlp2025_hw1_cultural_dataset/train.csv')\n",
    "df_val: pd.DataFrame = pd.read_csv(f'hf://datasets/sapienzanlp/nlp2025_hw1_cultural_dataset/valid.csv')\n",
    "\n",
    "labels = sorted(df_train['label'].unique())\n",
    "lab2id = {l:i for i,l in enumerate(labels)}\n",
    "df_train['label'] = df_train['label'].map(lab2id)\n",
    "df_val  ['label'] = df_val  ['label'].map(lab2id)\n",
    "\n",
    "df_train_sample = df_train.sample(n=1000, random_state=0).reset_index(drop=True)\n",
    "df_val_sample   = df_val.sample(n=300, random_state=0).reset_index(drop=True)\n",
    "\n",
    "train_ds = Dataset.from_pandas(df_train_sample[['description','label']])\n",
    "val_ds = Dataset.from_pandas(df_val_sample[['description','label']])\n"
   ]
  },
  {
   "cell_type": "code",
   "execution_count": null,
   "id": "01e8a5e3",
   "metadata": {},
   "outputs": [],
   "source": [
    "model_type = \"xlm-roberta-base\"\n",
    "classes = 3"
   ]
  },
  {
   "cell_type": "code",
   "execution_count": null,
   "id": "7f1f2569",
   "metadata": {},
   "outputs": [],
   "source": [
    "tokenizer = AutoTokenizer.from_pretrained(model_type)\n",
    "\n",
    "def tokenize(examples):\n",
    "    return tokenizer(examples[\"description\"], truncation=True)"
   ]
  },
  {
   "cell_type": "code",
   "execution_count": null,
   "id": "71c4db36",
   "metadata": {},
   "outputs": [],
   "source": [
    "train_data = train_ds.map(tokenize, batched=True).rename_column(\"label\", \"labels\")\n",
    "val_data = val_ds.map(tokenize, batched=True).rename_column(\"label\", \"labels\")"
   ]
  },
  {
   "cell_type": "code",
   "execution_count": null,
   "id": "6c4a1711",
   "metadata": {},
   "outputs": [],
   "source": [
    "data_collator = DataCollatorWithPadding(tokenizer=tokenizer)"
   ]
  },
  {
   "cell_type": "code",
   "execution_count": null,
   "id": "50c95123",
   "metadata": {},
   "outputs": [],
   "source": [
    "def model_init():\n",
    "    return build_model(model_type, classes).to(device)\n",
    "\n",
    "def objective(trial):\n",
    "    lr = trial.suggest_float(\"lr\", 1e-5, 1e-3, log=True)\n",
    "    batch_size=32\n",
    "    weight_decay = trial.suggest_float(\"weight_decay\", 0.0, 0.3)\n",
    "    num_epochs = trial.suggest_int(\"num_train_epochs\", 3, 8)\n",
    "    warmup_ratio = trial.suggest_float(\"warmup_ratio\", 0.0, 0.2)\n",
    "\n",
    "    trainargs = TrainingArguments(\n",
    "        output_dir=\"./results\", \n",
    "        learning_rate=lr,\n",
    "        per_device_train_batch_size=batch_size,\n",
    "        per_device_eval_batch_size=batch_size,\n",
    "        num_train_epochs=num_epochs,\n",
    "        weight_decay=weight_decay,\n",
    "        warmup_ratio=warmup_ratio,\n",
    "        load_best_model_at_end=True,\n",
    "        eval_strategy=\"epoch\", \n",
    "        save_strategy=\"epoch\",\n",
    "        metric_for_best_model=\"accuracy\",\n",
    "        greater_is_better=True,\n",
    "        report_to=\"none\"\n",
    "    )\n",
    "\n",
    "    trainer = Trainer(\n",
    "        model_init=model_init,\n",
    "        args=trainargs,\n",
    "        train_dataset=train_data,\n",
    "        eval_dataset=val_data,\n",
    "        tokenizer=tokenizer,\n",
    "        data_collator=data_collator,\n",
    "        compute_metrics=metrics,\n",
    "    )\n",
    "    trainer.train()\n",
    "    \n",
    "    if trainer.state.best_model_checkpoint is not None:\n",
    "        trainer.model = AutoModelForSequenceClassification.from_pretrained(trainer.state.best_model_checkpoint)\n",
    "        trainer.model.to(device)\n",
    "\n",
    "    eval_dataloader = trainer.get_eval_dataloader()\n",
    "    raw_preds = trainer.prediction_loop(eval_dataloader, description=\"Evaluation\")\n",
    "\n",
    "    result = metrics((raw_preds.predictions, raw_preds.label_ids))\n",
    "    f1 = result.get(\"f1\")\n",
    "    acc = result.get(\"accuracy\")\n",
    "\n",
    "    trial.set_user_attr(\"f1\", f1)\n",
    "    \n",
    "    return acc  "
   ]
  },
  {
   "cell_type": "code",
   "execution_count": null,
   "id": "5cc6f0b3",
   "metadata": {},
   "outputs": [],
   "source": [
    "study = optuna.create_study(direction=\"maximize\")\n",
    "study.optimize(objective, n_trials=15)"
   ]
  },
  {
   "cell_type": "code",
   "execution_count": null,
   "id": "3a9d0017",
   "metadata": {},
   "outputs": [],
   "source": [
    "print(\"Best trial:\")\n",
    "print(\"  Value (F1):\", study.best_trial.value)\n",
    "print(\"  Params:\")\n",
    "for key, value in study.best_trial.params.items():\n",
    "    print(f\"    {key}: {value}\")\n"
   ]
  },
  {
   "cell_type": "code",
   "execution_count": null,
   "id": "86729cce",
   "metadata": {},
   "outputs": [],
   "source": [
    "best_params = study.best_trial.params\n",
    "\n",
    "train_ds = Dataset.from_pandas(df_train[['description','label']])\n",
    "val_ds   = Dataset.from_pandas(df_val[['description','label']])\n",
    "train_data = train_ds.map(tokenize, batched=True).rename_column(\"label\", \"labels\")\n",
    "val_data   = val_ds.map(tokenize, batched=True).rename_column(\"label\", \"labels\")\n",
    "\n",
    "trainargs = TrainingArguments(\n",
    "    output_dir=\"./best_model\",\n",
    "    learning_rate=best_params[\"lr\"],\n",
    "    per_device_train_batch_size=best_params[\"batch_size\"],\n",
    "    per_device_eval_batch_size=best_params[\"batch_size\"],\n",
    "    num_train_epochs=best_params[\"num_train_epochs\"],\n",
    "    weight_decay=best_params[\"weight_decay\"],\n",
    "    warmup_ratio=best_params[\"warmup_ratio\"],\n",
    "    eval_strategy=\"epoch\",\n",
    "    save_strategy=\"epoch\",\n",
    "    load_best_model_at_end=True,\n",
    "    metric_for_best_model=\"accuracy\",\n",
    "    greater_is_better=True,\n",
    "    report_to=\"none\"\n",
    ")\n",
    "\n",
    "final_trainer = Trainer(\n",
    "    model_init=model_init,\n",
    "    args=trainargs,\n",
    "    train_dataset=train_data,  \n",
    "    eval_dataset=val_data,\n",
    "    tokenizer=tokenizer,\n",
    "    data_collator=data_collator,\n",
    "    compute_metrics=metrics\n",
    ")\n",
    "\n",
    "final_trainer.train()\n"
   ]
  },
  {
   "cell_type": "code",
   "execution_count": null,
   "id": "f2427d9a",
   "metadata": {},
   "outputs": [],
   "source": [
    "optuna.visualization.plot_optimization_history(study).show()\n",
    "optuna.visualization.plot_param_importances(study).show()"
   ]
  },
  {
   "cell_type": "code",
   "execution_count": null,
   "id": "3f4946d2",
   "metadata": {},
   "outputs": [],
   "source": [
    "preds = final_trainer.predict(val_data)\n",
    "y_true = preds.label_ids\n",
    "y_pred = preds.predictions.argmax(-1)\n",
    "\n",
    "cm = confusion_matrix(y_true, y_pred)\n",
    "disp = ConfusionMatrixDisplay(cm, display_labels=lab2id.keys())\n",
    "disp.plot(cmap=\"Blues\", xticks_rotation=45)\n",
    "plt.title(\"Confusion Matrix\")\n",
    "plt.tight_layout()\n",
    "plt.show()"
   ]
  }
 ],
 "metadata": {
  "kernelspec": {
   "display_name": "Python 3",
   "language": "python",
   "name": "python3"
  },
  "language_info": {
   "codemirror_mode": {
    "name": "ipython",
    "version": 3
   },
   "file_extension": ".py",
   "mimetype": "text/x-python",
   "name": "python",
   "nbconvert_exporter": "python",
   "pygments_lexer": "ipython3",
   "version": "3.11.9"
  }
 },
 "nbformat": 4,
 "nbformat_minor": 5
}

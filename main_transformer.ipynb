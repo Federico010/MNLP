{
 "cells": [
  {
   "cell_type": "code",
   "execution_count": null,
   "id": "defae42d",
   "metadata": {},
   "outputs": [],
   "source": [
    "from datasets import Dataset\n",
    "import numpy as np\n",
    "from numpy.typing import NDArray\n",
    "import pandas as pd\n",
    "import optuna\n",
    "from sklearn.preprocessing import LabelEncoder\n",
    "from transformers.data.data_collator import DataCollatorWithPadding\n",
    "from transformers.models.auto.modeling_auto import AutoModelForSequenceClassification\n",
    "from transformers.models.auto.tokenization_auto import AutoTokenizer\n",
    "from transformers.modeling_utils import PreTrainedModel\n",
    "from transformers.tokenization_utils_base import BatchEncoding, PreTrainedTokenizerBase\n",
    "from transformers.trainer import Trainer\n",
    "from transformers.trainer_callback import EarlyStoppingCallback\n",
    "from transformers.training_args import TrainingArguments\n",
    "\n",
    "from modules import models, paths, utils"
   ]
  },
  {
   "cell_type": "markdown",
   "id": "c298f23b",
   "metadata": {},
   "source": [
    "Va scelto il modello e regolato eval_steps (influenza l'early stopping). Aggiungere wandb. Una volta sistemato il dataset, sistemare le chiamate a df['label'] e simili (train_df[['description','label']])."
   ]
  },
  {
   "cell_type": "code",
   "execution_count": null,
   "id": "e5d1eac4",
   "metadata": {},
   "outputs": [],
   "source": [
    "model_name: str = 'sentence-transformers/all-MiniLM-L6-v2'"
   ]
  },
  {
   "cell_type": "markdown",
   "id": "e67f2432",
   "metadata": {},
   "source": [
    "### Data"
   ]
  },
  {
   "cell_type": "code",
   "execution_count": null,
   "id": "5cc6cd19",
   "metadata": {},
   "outputs": [],
   "source": [
    "# Load the dataset\n",
    "train_df: pd.DataFrame = pd.read_csv(f'hf://datasets/sapienzanlp/nlp2025_hw1_cultural_dataset/train.csv')\n",
    "val_df: pd.DataFrame = pd.read_csv(f'hf://datasets/sapienzanlp/nlp2025_hw1_cultural_dataset/valid.csv')"
   ]
  },
  {
   "cell_type": "code",
   "execution_count": null,
   "id": "dc086b08",
   "metadata": {},
   "outputs": [],
   "source": [
    "# Encode labels\n",
    "label_encoder: LabelEncoder = LabelEncoder()\n",
    "train_df['label'] = label_encoder.fit_transform(train_df['label'])\n",
    "val_df['label'] = label_encoder.transform(val_df['label'])"
   ]
  },
  {
   "cell_type": "code",
   "execution_count": null,
   "id": "71798dcb",
   "metadata": {},
   "outputs": [],
   "source": [
    "# Define the tokenizer and data collator\n",
    "tokenizer: PreTrainedTokenizerBase = AutoTokenizer.from_pretrained(model_name)\n",
    "data_collator: DataCollatorWithPadding = DataCollatorWithPadding(tokenizer = tokenizer)"
   ]
  },
  {
   "cell_type": "code",
   "execution_count": null,
   "id": "7b542ef5",
   "metadata": {},
   "outputs": [],
   "source": [
    "# Give the data a suitable format\n",
    "\n",
    "def tokenize(samples) -> BatchEncoding:\n",
    "    return tokenizer(samples['description'], truncation = True, padding = True)\n",
    "\n",
    "train_data: Dataset = Dataset.from_pandas(train_df[['description','label']]).map(tokenize, batched = True)\n",
    "val_data: Dataset = Dataset.from_pandas(val_df[['description','label']]).map(tokenize, batched = True)"
   ]
  },
  {
   "cell_type": "markdown",
   "id": "0176ff1c",
   "metadata": {},
   "source": [
    "### Model"
   ]
  },
  {
   "cell_type": "code",
   "execution_count": null,
   "id": "ac79ba63",
   "metadata": {},
   "outputs": [],
   "source": [
    "# Load  the pretrained model\n",
    "model: PreTrainedModel = AutoModelForSequenceClassification.from_pretrained(model_name,\n",
    "                                                                            num_labels = len(label_encoder.classes_),\n",
    "                                                                            ignore_mismatched_sizes = True\n",
    "                                                                            )"
   ]
  },
  {
   "cell_type": "markdown",
   "id": "03a93d6b",
   "metadata": {},
   "source": [
    "### Tuning"
   ]
  },
  {
   "cell_type": "code",
   "execution_count": null,
   "id": "50c95123",
   "metadata": {},
   "outputs": [],
   "source": [
    "def model_init():\n",
    "    return build_model(model_name, classes)\n",
    "\n",
    "def objective(trial):\n",
    "    lr = trial.suggest_float(\"lr\", 1e-5, 1e-3, log=True)\n",
    "    batch_size=32\n",
    "    weight_decay = trial.suggest_float(\"weight_decay\", 0.0, 0.3)\n",
    "    num_epochs = trial.suggest_int(\"num_train_epochs\", 3, 8)\n",
    "    warmup_ratio = trial.suggest_float(\"warmup_ratio\", 0.0, 0.2)\n",
    "\n",
    "    trainargs = TrainingArguments(\n",
    "        output_dir=\"./results\", \n",
    "        learning_rate=lr,\n",
    "        per_device_train_batch_size=batch_size,\n",
    "        per_device_eval_batch_size=batch_size,\n",
    "        num_train_epochs=num_epochs,\n",
    "        weight_decay=weight_decay,\n",
    "        warmup_ratio=warmup_ratio,\n",
    "        load_best_model_at_end=True,\n",
    "        eval_strategy=\"epoch\", \n",
    "        save_strategy=\"epoch\",\n",
    "        metric_for_best_model=\"accuracy\",\n",
    "        greater_is_better=True,\n",
    "        report_to=\"none\"\n",
    "    )\n",
    "\n",
    "    trainer = Trainer(\n",
    "        model_init=model_init,\n",
    "        args=trainargs,\n",
    "        train_dataset=train_data,\n",
    "        eval_dataset=val_data,\n",
    "        tokenizer=tokenizer,\n",
    "        data_collator=data_collator,\n",
    "        compute_metrics=metrics,\n",
    "    )\n",
    "    trainer.train()\n",
    "    \n",
    "    if trainer.state.best_model_checkpoint is not None:\n",
    "        trainer.model = AutoModelForSequenceClassification.from_pretrained(trainer.state.best_model_checkpoint)\n",
    "        trainer.model.to(device)\n",
    "\n",
    "    eval_dataloader = trainer.get_eval_dataloader()\n",
    "    raw_preds = trainer.prediction_loop(eval_dataloader, description=\"Evaluation\")\n",
    "\n",
    "    result = metrics((raw_preds.predictions, raw_preds.label_ids))\n",
    "    f1 = result.get(\"f1\")\n",
    "    acc = result.get(\"accuracy\")\n",
    "\n",
    "    trial.set_user_attr(\"f1\", f1)\n",
    "    \n",
    "    return acc  "
   ]
  },
  {
   "cell_type": "code",
   "execution_count": null,
   "id": "5cc6f0b3",
   "metadata": {},
   "outputs": [],
   "source": [
    "study = optuna.create_study(direction=\"maximize\")\n",
    "study.optimize(objective, n_trials=1)"
   ]
  },
  {
   "cell_type": "code",
   "execution_count": null,
   "id": "ada0758a",
   "metadata": {},
   "outputs": [],
   "source": [
    "print(\"Best trial:\")\n",
    "print(\"  Value (F1):\", study.best_trial.value)\n",
    "print(\"  Params:\")\n",
    "for key, value in study.best_trial.params.items():\n",
    "    print(f\"    {key}: {value}\")"
   ]
  },
  {
   "cell_type": "code",
   "execution_count": null,
   "id": "99c355be",
   "metadata": {},
   "outputs": [],
   "source": [
    "optuna.visualization.plot_optimization_history(study).show()\n",
    "optuna.visualization.plot_param_importances(study).show()"
   ]
  },
  {
   "cell_type": "markdown",
   "id": "599bfedc",
   "metadata": {},
   "source": [
    "### Training"
   ]
  },
  {
   "cell_type": "code",
   "execution_count": null,
   "id": "86729cce",
   "metadata": {},
   "outputs": [],
   "source": [
    "# Train the model\n",
    "\n",
    "trainargs: TrainingArguments = TrainingArguments(num_train_epochs = 1000,    # Unlimited epochs\n",
    "                                                 auto_find_batch_size = True,\n",
    "                                                 fp16 = True,\n",
    "                                                 metric_for_best_model = 'f1',\n",
    "                                                 load_best_model_at_end = True,\n",
    "                                                 eval_strategy = 'steps',\n",
    "                                                 eval_steps = 100,\n",
    "                                                 save_strategy = 'best',\n",
    "                                                 save_total_limit = 1,\n",
    "                                                 output_dir = str(paths.TRANSFORMER_MODEL_DIR),\n",
    "                                                 report_to = 'none' # cambiare a wandb\n",
    "                                                 )\n",
    "\n",
    "trainer: Trainer = Trainer(callbacks = [EarlyStoppingCallback(early_stopping_patience = 10)],\n",
    "                           model = model,\n",
    "                           args = trainargs,\n",
    "                           train_dataset = train_data,\n",
    "                           eval_dataset = val_data,\n",
    "                           processing_class = tokenizer,\n",
    "                           compute_metrics = models.transformer_metrics\n",
    "                           )\n",
    "\n",
    "trainer.train()"
   ]
  },
  {
   "cell_type": "code",
   "execution_count": null,
   "id": "3f4946d2",
   "metadata": {},
   "outputs": [],
   "source": [
    "# Evaluate the model on the validation set\n",
    "val_results: dict[str, float] = trainer.evaluate()\n",
    "print(f\"Loss: {val_results['eval_loss']:.3f}\")\n",
    "print(f\"Accuracy: {val_results['eval_accuracy']:.3f}\")\n",
    "print(f\"F1 score: {val_results['eval_f1']:.3f}\")\n",
    "print(f\"Precision: {val_results['eval_precision']:.3f}\")\n",
    "print(f\"Recall: {val_results['eval_recall']:.3f}\")"
   ]
  },
  {
   "cell_type": "code",
   "execution_count": null,
   "id": "155d7d64",
   "metadata": {},
   "outputs": [],
   "source": [
    "# Confusion matrix\n",
    "logits: NDArray[np.float32] = np.array(trainer.predict(val_data).predictions)    # type: ignore\n",
    "predictions_encoded: NDArray[np.intp] = np.argmax(logits, axis = 1)\n",
    "utils.plot_confusion_matrix(val_df['label'], predictions_encoded, label_encoder)"
   ]
  },
  {
   "cell_type": "markdown",
   "id": "dbf80493",
   "metadata": {},
   "source": [
    "### Test"
   ]
  }
 ],
 "metadata": {
  "kernelspec": {
   "display_name": "Python 3",
   "language": "python",
   "name": "python3"
  },
  "language_info": {
   "codemirror_mode": {
    "name": "ipython",
    "version": 3
   },
   "file_extension": ".py",
   "mimetype": "text/x-python",
   "name": "python",
   "nbconvert_exporter": "python",
   "pygments_lexer": "ipython3",
   "version": "3.10.12"
  }
 },
 "nbformat": 4,
 "nbformat_minor": 5
}

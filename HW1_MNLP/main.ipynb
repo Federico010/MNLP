{
 "cells": [
  {
   "cell_type": "code",
   "execution_count": null,
   "id": "a481250d",
   "metadata": {},
   "outputs": [],
   "source": [
    "from typing import Literal\n",
    "\n",
    "import networkx as nx\n",
    "import pandas as pd\n",
    "import pytorch_lightning as pl\n",
    "from sklearn.preprocessing import LabelEncoder\n",
    "import torch\n",
    "from torch_geometric.data import Data\n",
    "from torch_geometric.loader import DataLoader\n",
    "from torch_geometric.utils.convert import from_networkx\n",
    "\n",
    "from modules import dataset, graph, model"
   ]
  },
  {
   "cell_type": "code",
   "execution_count": null,
   "id": "1f64494c",
   "metadata": {},
   "outputs": [],
   "source": [
    "# Load the dataset\n",
    "\n",
    "# Label encoder\n",
    "label_encoder: LabelEncoder = LabelEncoder()\n",
    "\n",
    "# Prepare the training set\n",
    "train_set: pd.DataFrame = dataset.prepare_dataset('train')\n",
    "train_x: pd.DataFrame = train_set.drop(columns=['label'])\n",
    "label_encoder.fit(train_set['label'])\n",
    "train_y: torch.Tensor = torch.tensor(label_encoder.transform(train_set['label']))\n",
    "\n",
    "# Prepare the validation set\n",
    "valid_set: pd.DataFrame = dataset.prepare_dataset('valid')\n",
    "valid_x: pd.DataFrame = valid_set.drop(columns=['label'])\n",
    "valid_y: torch.Tensor = torch.tensor(label_encoder.transform(valid_set['label']))"
   ]
  },
  {
   "cell_type": "code",
   "execution_count": null,
   "id": "b629e195",
   "metadata": {},
   "outputs": [],
   "source": [
    "# Create the graphs\n",
    "\n",
    "# Parameters\n",
    "mode: Literal['iou', 'correlation', 'filtered correlation'] = 'iou'\n",
    "treshold: float = 0.5\n",
    "\n",
    "training_graph: nx.Graph = graph.get_similarity_graph(train_x, similarity_threshold=treshold, mode=mode, save_fig=True)\n",
    "validation_graph: nx.Graph = graph.get_similarity_graph(valid_x, similarity_threshold=treshold, mode=mode)"
   ]
  },
  {
   "cell_type": "code",
   "execution_count": null,
   "id": "cb2cc711",
   "metadata": {},
   "outputs": [],
   "source": [
    "# Create the dataloaders\n",
    "\n",
    "train_data: Data = from_networkx(training_graph)\n",
    "train_data.y = train_y\n",
    "train_loader: DataLoader = DataLoader([train_data], shuffle=True)\n",
    "\n",
    "valid_data: Data = from_networkx(validation_graph)\n",
    "valid_data.y = valid_y\n",
    "valid_loader: DataLoader = DataLoader([valid_data])"
   ]
  },
  {
   "cell_type": "code",
   "execution_count": null,
   "id": "e60dd7dd",
   "metadata": {},
   "outputs": [],
   "source": [
    "model = model.LightningGCN(input_feature= len(train_x.columns),\n",
    "    hidden_feature= 64,\n",
    "    output_feature=3\n",
    ")\n",
    "\n",
    "trainer = pl.Trainer(\n",
    "    max_epochs=100,\n",
    "    log_every_n_steps=1  # per log più frequenti (anche con 1 batch)\n",
    ")"
   ]
  },
  {
   "cell_type": "code",
   "execution_count": null,
   "id": "7077fbc0",
   "metadata": {},
   "outputs": [],
   "source": [
    "\n",
    "trainer.fit(model, train_dataloaders=train_loader, val_dataloaders=valid_loader)"
   ]
  }
 ],
 "metadata": {
  "kernelspec": {
   "display_name": "Python 3",
   "language": "python",
   "name": "python3"
  },
  "language_info": {
   "codemirror_mode": {
    "name": "ipython",
    "version": 3
   },
   "file_extension": ".py",
   "mimetype": "text/x-python",
   "name": "python",
   "nbconvert_exporter": "python",
   "pygments_lexer": "ipython3",
   "version": "3.10.12"
  }
 },
 "nbformat": 4,
 "nbformat_minor": 5
}

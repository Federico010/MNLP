{
 "cells": [
  {
   "cell_type": "code",
   "execution_count": 1,
   "id": "defae42d",
   "metadata": {},
   "outputs": [],
   "source": [
    "import gc, torch\n",
    "import os\n",
    "from modules import paths\n",
    "import numpy as np\n",
    "from datasets import Dataset\n",
    "from transformers import AutoTokenizer,default_data_collator, Trainer, TrainingArguments, DataCollatorWithPadding, set_seed, TrainerCallback, AutoModelForSequenceClassification\n",
    "import pandas as pd\n",
    "from modules.dataset import get_page_len_dataset\n",
    "from modules.transformer_model import build_model, metrics\n",
    "import nest_asyncio\n",
    "import matplotlib.pyplot as plt\n",
    "from sklearn.metrics import ConfusionMatrixDisplay, f1_score\n",
    "import optuna\n"
   ]
  },
  {
   "cell_type": "code",
   "execution_count": null,
   "id": "1a764bc2",
   "metadata": {},
   "outputs": [],
   "source": [
    "nest_asyncio.apply()"
   ]
  },
  {
   "cell_type": "code",
   "execution_count": null,
   "id": "c68473af",
   "metadata": {},
   "outputs": [
    {
     "name": "stdout",
     "output_type": "stream",
     "text": [
      "Utilizzo: cuda\n"
     ]
    }
   ],
   "source": [
    "device = torch.device(\"cuda\" if torch.cuda.is_available() else \"cpu\")\n",
    "print(\"Utilizzo:\", device)\n",
    "set_seed(0)\n"
   ]
  },
  {
   "cell_type": "code",
   "execution_count": 4,
   "id": "fb05939a",
   "metadata": {},
   "outputs": [],
   "source": [
    "\n",
    "df_train = get_page_len_dataset('train')\n",
    "df_val = get_page_len_dataset('valid')\n",
    "\n",
    "\n",
    "labels = sorted(df_train['label'].unique())\n",
    "lab2id = {l:i for i,l in enumerate(labels)}\n",
    "df_train['label'] = df_train['label'].map(lab2id)\n",
    "df_val  ['label'] = df_val  ['label'].map(lab2id)\n",
    "\n",
    "train_ds = Dataset.from_pandas(df_train[['description','label']])\n",
    "val_ds   = Dataset.from_pandas(df_val  [['description','label']])"
   ]
  },
  {
   "cell_type": "code",
   "execution_count": 5,
   "id": "01e8a5e3",
   "metadata": {},
   "outputs": [],
   "source": [
    "model_type = \"xlm-roberta-base\"\n",
    "batch_size = 16\n",
    "epochs = 3\n",
    "learning_rate = 1e-4\n",
    "weight_decay = 0.01\n",
    "classes = 3\n"
   ]
  },
  {
   "cell_type": "code",
   "execution_count": 6,
   "id": "7f1f2569",
   "metadata": {},
   "outputs": [
    {
     "name": "stderr",
     "output_type": "stream",
     "text": [
      "Some weights of XLMRobertaForSequenceClassification were not initialized from the model checkpoint at xlm-roberta-base and are newly initialized: ['classifier.dense.bias', 'classifier.dense.weight', 'classifier.out_proj.bias', 'classifier.out_proj.weight']\n",
      "You should probably TRAIN this model on a down-stream task to be able to use it for predictions and inference.\n"
     ]
    }
   ],
   "source": [
    "model = build_model(model_type, classes).to(device)\n",
    "tokenizer = AutoTokenizer.from_pretrained(model_type)"
   ]
  },
  {
   "cell_type": "code",
   "execution_count": 7,
   "id": "c2e29d38",
   "metadata": {},
   "outputs": [],
   "source": [
    "def tokenize(examples):\n",
    "    return tokenizer(examples[\"description\"], padding=\"max_length\", truncation=True, max_length=128)"
   ]
  },
  {
   "cell_type": "code",
   "execution_count": 8,
   "id": "71c4db36",
   "metadata": {},
   "outputs": [
    {
     "data": {
      "application/vnd.jupyter.widget-view+json": {
       "model_id": "67d9f0e666cb49329efba63b062491c5",
       "version_major": 2,
       "version_minor": 0
      },
      "text/plain": [
       "Map:   0%|          | 0/6249 [00:00<?, ? examples/s]"
      ]
     },
     "metadata": {},
     "output_type": "display_data"
    },
    {
     "data": {
      "application/vnd.jupyter.widget-view+json": {
       "model_id": "a226028c304048279984dd30a57cd7d7",
       "version_major": 2,
       "version_minor": 0
      },
      "text/plain": [
       "Map:   0%|          | 0/300 [00:00<?, ? examples/s]"
      ]
     },
     "metadata": {},
     "output_type": "display_data"
    }
   ],
   "source": [
    "train_data = train_ds.map(tokenize, batched=True, remove_columns=[\"description\"])\n",
    "val_data = val_ds.map(tokenize, batched=True, remove_columns=[\"description\"])\n",
    "train_data = train_data.rename_column(\"label\", \"labels\")\n",
    "val_data   = val_data.rename_column(\"label\", \"labels\")\n"
   ]
  },
  {
   "cell_type": "code",
   "execution_count": 9,
   "id": "d39ef51b",
   "metadata": {},
   "outputs": [],
   "source": [
    "collator = DataCollatorWithPadding(tokenizer=tokenizer)\n",
    "training_args = TrainingArguments(\n",
    "    output_dir=\".results\",\n",
    "    eval_strategy=\"epoch\",\n",
    "    save_strategy=\"epoch\",\n",
    "    learning_rate=learning_rate,\n",
    "    per_device_train_batch_size=batch_size,\n",
    "    per_device_eval_batch_size=batch_size,\n",
    "    num_train_epochs=epochs,\n",
    "    weight_decay=weight_decay,\n",
    "    logging_dir=\"./logs\",\n",
    "    load_best_model_at_end=True,\n",
    "    label_smoothing_factor=0.1,\n",
    ")\n"
   ]
  },
  {
   "cell_type": "code",
   "execution_count": 12,
   "id": "50c95123",
   "metadata": {},
   "outputs": [],
   "source": [
    "small_train = train_data.select(range(500))\n",
    "small_val= val_data.select(range(200))\n",
    "\n",
    "def objective(trial: optuna.Trial) -> float:\n",
    "    \n",
    "    try:\n",
    "        del model\n",
    "    except NameError:\n",
    "        pass\n",
    "    gc.collect()\n",
    "    torch.cuda.empty_cache()\n",
    "    \n",
    "    lr = trial.suggest_float(\"learning_rate\", 1e-6, 1e-4, log=True)\n",
    "    bs = trial.suggest_categorical(\"per_device_train_batch_size\", [4,8,16])\n",
    "    wd = trial.suggest_float(\"weight_decay\", 1e-8, 0.1, log=True)\n",
    "    ws = trial.suggest_int(\"warmup_steps\", 0, 500)\n",
    "    ep = trial.suggest_int(\"num_train_epochs\", 1, 3)\n",
    "\n",
    "\n",
    "    hargs = TrainingArguments(\n",
    "        output_dir=\".tmp_hpo\",\n",
    "        per_device_train_batch_size=bs,\n",
    "        learning_rate=lr,\n",
    "        weight_decay=wd,\n",
    "        warmup_steps=ws,\n",
    "        num_train_epochs=ep,\n",
    "        no_cuda=True,           \n",
    "        logging_strategy=\"no\",\n",
    "        eval_strategy=\"no\",\n",
    "        save_strategy=\"no\",\n",
    "        disable_tqdm=False,\n",
    "        report_to=None,\n",
    "    )\n",
    "\n",
    "    model = build_model(model_type, classes)\n",
    "\n",
    "    trainer = Trainer(\n",
    "        model=model,\n",
    "        args=hargs,\n",
    "        train_dataset=small_train,\n",
    "        eval_dataset=None,\n",
    "        tokenizer=tokenizer,\n",
    "        data_collator=default_data_collator,\n",
    "        compute_metrics=None,\n",
    "    )\n",
    "\n",
    "    trainer.train()\n",
    "    pred_output = trainer.predict(small_val)\n",
    "    raw_preds  = pred_output.predictions"
   ]
  },
  {
   "cell_type": "code",
   "execution_count": null,
   "id": "86729cce",
   "metadata": {},
   "outputs": [
    {
     "ename": "NameError",
     "evalue": "name 'pred_output' is not defined",
     "output_type": "error",
     "traceback": [
      "\u001b[31m---------------------------------------------------------------------------\u001b[39m",
      "\u001b[31mNameError\u001b[39m                                 Traceback (most recent call last)",
      "\u001b[36mCell\u001b[39m\u001b[36m \u001b[39m\u001b[32mIn[13]\u001b[39m\u001b[32m, line 3\u001b[39m\n\u001b[32m      1\u001b[39m \u001b[38;5;66;03m# sistema i dati\u001b[39;00m\n\u001b[32m      2\u001b[39m \u001b[38;5;66;03m# Se predict() restituisce una tupla (logits, ...), prendi il primo elemento\u001b[39;00m\n\u001b[32m----> \u001b[39m\u001b[32m3\u001b[39m raw_preds  = \u001b[43mpred_output\u001b[49m.predictions\n\u001b[32m      4\u001b[39m \u001b[38;5;28;01mif\u001b[39;00m \u001b[38;5;28misinstance\u001b[39m(raw_preds, \u001b[38;5;28mtuple\u001b[39m):\n\u001b[32m      5\u001b[39m     raw_preds = raw_preds[\u001b[32m0\u001b[39m]\n",
      "\u001b[31mNameError\u001b[39m: name 'pred_output' is not defined"
     ]
    }
   ],
   "source": [
    "# sistema i dati\n",
    "\n",
    "if isinstance(raw_preds, tuple):\n",
    "    raw_preds = raw_preds[0]\n",
    "\n",
    "# Se è una lista di batch, concatenali dopo averli reshapatati\n",
    "if isinstance(raw_preds, (list, tuple)):\n",
    "    parts = []\n",
    "    for p in raw_preds:\n",
    "        arr = np.asarray(p)\n",
    "        if arr.ndim > 2:\n",
    "            arr = arr.reshape(-1, arr.shape[-1])\n",
    "        parts.append(arr)\n",
    "    logits = np.concatenate(parts, axis=0)\n",
    "else:\n",
    "    logits = np.asarray(raw_preds)\n",
    "    if logits.ndim > 2:\n",
    "        logits = logits.reshape(-1, logits.shape[-1])\n",
    "\n",
    "pred_labels = np.argmax(logits, axis=1)\n",
    "true_labels = pred_output.label_ids\n",
    "\n",
    "f1 = f1_score(true_labels, pred_labels, average=\"macro\")\n",
    "\n",
    "trial.report(f1, step=0)\n",
    "if trial.should_prune():\n",
    "    raise optuna.TrialPruned()\n",
    "return float(f1)"
   ]
  },
  {
   "cell_type": "code",
   "execution_count": null,
   "id": "3f4946d2",
   "metadata": {},
   "outputs": [],
   "source": [
    "study = optuna.create_study(\n",
    "    study_name=\"hpo_study\",\n",
    "    storage=\"sqlite:///hpo.db\",\n",
    "    load_if_exists=True,\n",
    "    direction=\"maximize\",\n",
    "    pruner=optuna.pruners.MedianPruner(n_warmup_steps=1)\n",
    ")\n",
    "\n",
    "study.optimize(objective, n_trials=10, n_jobs=1)\n",
    "best_params = study.best_trial.params\n",
    "print(\"Best params:\", best_params)"
   ]
  },
  {
   "cell_type": "code",
   "execution_count": null,
   "id": "6e7ecb54",
   "metadata": {},
   "outputs": [],
   "source": [
    "train_data.set_format(type=\"torch\", columns=[\"input_ids\", \"attention_mask\", \"labels\"])\n",
    "val_data.set_format(  type=\"torch\", columns=[\"input_ids\", \"attention_mask\", \"labels\"])\n",
    "\n",
    "training_args = TrainingArguments(\n",
    "    output_dir=\".results_final\",\n",
    "    evaluation_strategy=\"epoch\",\n",
    "    save_strategy=\"epoch\",\n",
    "    load_best_model_at_end=True,\n",
    "    logging_dir=\"./logs\",\n",
    "    logging_strategy=\"epoch\",\n",
    "    label_smoothing_factor=0.1,\n",
    "    no_cuda=True,  \n",
    "    **best_params\n",
    ")\n",
    "\n",
    "model = build_model(model_type, classes)\n",
    "train = Trainer(\n",
    "    model=model,\n",
    "    args=training_args,\n",
    "    train_dataset=train_data,\n",
    "    eval_dataset=val_data,\n",
    "    tokenizer=tokenizer,\n",
    "    data_collator=default_data_collator,\n",
    "    compute_metrics=metrics,\n",
    ")\n",
    "\n",
    "train.train()\n",
    "train.save_model(\"final_model\")\n",
    "results = train.evaluate()\n",
    "print(\"Final evaluation:\", results)"
   ]
  },
  {
   "cell_type": "code",
   "execution_count": null,
   "id": "9aab8cf8",
   "metadata": {},
   "outputs": [
    {
     "data": {
      "image/png": "[encoded data removed]",
      "text/plain": [
       "<Figure size 640x480 with 2 Axes>"
      ]
     },
     "metadata": {},
     "output_type": "display_data"
    }
   ],
   "source": [
    "pred_output = train.predict(val_data)\n",
    "logits      = pred_output.predictions\n",
    "true_labels = pred_output.label_ids\n",
    "pred_labels = np.argmax(logits, axis=1)\n",
    "\n",
    "disp = ConfusionMatrixDisplay.from_predictions(\n",
    "    true_labels,\n",
    "    pred_labels,\n",
    "    display_labels=labels,    # la tua lista di nomi delle classi\n",
    "    normalize=None,           # oppure \"true\"/\"pred\"/\"all\" per matrici normalizzate\n",
    "    cmap=\"viridis\",           # opzionale: colormap a tuo gusto\n",
    ")\n",
    "disp.figure_.suptitle(\"Confusion Matrix\")\n",
    "plt.xticks(rotation=45, ha=\"right\")\n",
    "plt.tight_layout()\n",
    "plt.show()"
   ]
  }
 ],
 "metadata": {
  "kernelspec": {
   "display_name": "Python 3",
   "language": "python",
   "name": "python3"
  },
  "language_info": {
   "codemirror_mode": {
    "name": "ipython",
    "version": 3
   },
   "file_extension": ".py",
   "mimetype": "text/x-python",
   "name": "python",
   "nbconvert_exporter": "python",
   "pygments_lexer": "ipython3",
   "version": "3.11.9"
  }
 },
 "nbformat": 4,
 "nbformat_minor": 5
}
